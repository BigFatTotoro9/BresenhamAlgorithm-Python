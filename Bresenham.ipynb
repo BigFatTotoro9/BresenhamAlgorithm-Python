{
  "nbformat": 4,
  "nbformat_minor": 0,
  "metadata": {
    "colab": {
      "provenance": [],
      "authorship_tag": "ABX9TyPxpNc1vtqhYSwSABaADNxW",
      "include_colab_link": true
    },
    "kernelspec": {
      "name": "python3",
      "display_name": "Python 3"
    },
    "language_info": {
      "name": "python"
    }
  },
  "cells": [
    {
      "cell_type": "markdown",
      "metadata": {
        "id": "view-in-github",
        "colab_type": "text"
      },
      "source": [
        "<a href=\"https://colab.research.google.com/github/BigFatTotoro9/BresenhamAlgorithm-Python/blob/main/Bresenham.ipynb\" target=\"_parent\"><img src=\"https://colab.research.google.com/assets/colab-badge.svg\" alt=\"Open In Colab\"/></a>"
      ]
    },
    {
      "cell_type": "markdown",
      "source": [
        "2D Transformation"
      ],
      "metadata": {
        "id": "RdZDKwUNd9ad"
      }
    },
    {
      "cell_type": "code",
      "execution_count": null,
      "metadata": {
        "id": "Eblvugnid2GU"
      },
      "outputs": [],
      "source": [
        "import math as m\n",
        "import numpy as np\n",
        "\n",
        "def tr(Trx=0,Try=0):\n",
        "  return np.array([[1, 0, 0],[0, 1, 0],[Trx,Try,1]])\n",
        "\n",
        "def sc(Sx=1, Sy=1):\n",
        "  return np.array([[Sx,0,0],[0,Sy,0],[0,0,1]])\n",
        "\n",
        "def rot(teta):\n",
        "  return np.array([[m.cos(m.radians(teta)),m.sin(m.radians(teta)),0],\n",
        "      [-m.sin(m.radians(teta)),m.cos(m.radians(teta)),0],\n",
        "      [0,0,1]])"
      ]
    },
    {
      "cell_type": "markdown",
      "source": [
        "Bresenham Algorithm"
      ],
      "metadata": {
        "id": "mVpJX-t_eDRk"
      }
    },
    {
      "cell_type": "code",
      "source": [
        "def garis(x1, y1, x2, y2, Image):\n",
        "  dx = x2 - x1\n",
        "  dy = y2 - y1\n",
        "  x, y = x1, y1\n",
        "\n",
        "  # Garis Vertikal\n",
        "  # Checked\n",
        "  if (x2 == x1):\n",
        "\n",
        "    while (y2 > y):\n",
        "      Image.putpixel((x, y), (0, 0, 0))\n",
        "      y += 1\n",
        "      x = x\n",
        "\n",
        "    while (y2 < y):\n",
        "      Image.putpixel((x, y), (0, 0, 0))\n",
        "      y -= 1\n",
        "      x = x\n",
        "\n",
        "  else:\n",
        "    slope = (dy)/(dx)\n",
        "    # print(slope)\n",
        "\n",
        "    # Garis horizontal\n",
        "    # Checked\n",
        "    if (slope == 0):\n",
        "\n",
        "      while (x2 > x):\n",
        "        Image.putpixel((x, y), (0, 0, 0))\n",
        "        x += 1\n",
        "        y = y\n",
        "\n",
        "      while (x2 < x):\n",
        "        Image.putpixel((x, y), (0, 0, 0))\n",
        "        x -= 1\n",
        "        y = y\n",
        "\n",
        "    # Garis diagonal m positif\n",
        "    # Checked\n",
        "    elif (slope == 1):\n",
        "\n",
        "      while (x2 > x):\n",
        "        Image.putpixel((x, y), (0, 0, 0))\n",
        "        x += 1\n",
        "        y += 1\n",
        "\n",
        "      while (x2 < x):\n",
        "        Image.putpixel((x, y), (0, 0, 0))\n",
        "        x -= 1\n",
        "        y -= 1\n",
        "\n",
        "    # Garis diagonal m negatif\n",
        "    # Checked\n",
        "    elif (slope == -1):\n",
        "\n",
        "      while (x2 > x):\n",
        "        Image.putpixel((x, y), (0, 0, 0))\n",
        "        x += 1\n",
        "        y -= 1\n",
        "\n",
        "      while (x2 < x):\n",
        "        Image.putpixel((x, y), (0, 0, 0))\n",
        "        x -= 1\n",
        "        y += 1\n",
        "\n",
        "    # Garis Cenderung Mendatar Kuadran 1 bolak balik\n",
        "    # Slope positif\n",
        "    # Checked\n",
        "    elif (slope > 0) and (slope < 1):\n",
        "      d1, d2 = 2*dy, 2*(dy-dx)\n",
        "      p = d1 - dx\n",
        "\n",
        "      while(x < x2):\n",
        "        if(p>=0):\n",
        "          p += d2\n",
        "          y += 1\n",
        "\n",
        "        else:\n",
        "          p += d1\n",
        "          y = y\n",
        "\n",
        "        Image.putpixel((x,y),(0,0,0))\n",
        "        x += 1\n",
        "\n",
        "      while(x > x2):\n",
        "        if(p<=0):\n",
        "          p += d2\n",
        "          y -= 1\n",
        "\n",
        "        else:\n",
        "          p += d1\n",
        "          y = y\n",
        "        Image.putpixel((x,y),(0,0,0))\n",
        "        x -= 1\n",
        "\n",
        "    # Garis Cenderung Tegak Kuadran 1 & 3 bolak balik\n",
        "    # Slope positif\n",
        "    # Checked\n",
        "    elif (slope > 1):\n",
        "      d1, d2 = 2*dx, 2*(dx-dy)\n",
        "      p = d1-dy\n",
        "\n",
        "      while(y < y2):\n",
        "        if(p>=0):\n",
        "          p += d2\n",
        "          x += 1\n",
        "\n",
        "        else:\n",
        "          p += d1\n",
        "          x = x\n",
        "\n",
        "        Image.putpixel((x,y),(0,0,0))\n",
        "        y += 1\n",
        "\n",
        "      while(y > y2):\n",
        "        if(p<=0):\n",
        "          p += d2\n",
        "          x -= 1\n",
        "\n",
        "        else:\n",
        "          p += d1\n",
        "          x = x\n",
        "\n",
        "        Image.putpixel((x,y),(0,0,0))\n",
        "        y -= 1\n",
        "\n",
        "    # Garis Cenderung Mendatar Kuadran 2 & 4 bolak balik\n",
        "    # Slope negatif\n",
        "    # Checked\n",
        "    elif (-1 < slope) and (slope < 0):\n",
        "      d1, d2 = 2 * dy, 2 * (dy + dx)\n",
        "      p = d1 + dx\n",
        "\n",
        "      while (x < x2):\n",
        "        if (p <= 0):\n",
        "          p += d2\n",
        "          y -= 1\n",
        "        else:\n",
        "          p += d1\n",
        "          y = y\n",
        "\n",
        "        Image.putpixel((x, y), (0, 0, 0))\n",
        "        x += 1\n",
        "\n",
        "      while (x > x2):\n",
        "        if (p >= 0):\n",
        "          p += d2\n",
        "          y += 1\n",
        "        else:\n",
        "          p += d1\n",
        "          y = y\n",
        "\n",
        "        Image.putpixel((x, y), (0, 0, 0))\n",
        "        x -= 1\n",
        "\n",
        "    #Garis Cenderung Tegak Kuadran 2 & 4 bolak balik\n",
        "    # Slope negatif\n",
        "    # Checked\n",
        "    elif (slope < -1):\n",
        "      d1, d2 = 2 * dx, 2 * (dx + dy)\n",
        "      p = d1 + dy\n",
        "\n",
        "      while (y < y2):\n",
        "        if (p <= 0):\n",
        "          p += d2\n",
        "          x -= 1\n",
        "        else:\n",
        "          p += d1\n",
        "          x = x\n",
        "\n",
        "        Image.putpixel((x, y), (0, 0, 0))\n",
        "        y += 1\n",
        "\n",
        "      while (y > y2):\n",
        "        if (p >= 0):\n",
        "          p += d2\n",
        "          x += 1\n",
        "        else:\n",
        "          p += d1\n",
        "          x = x\n",
        "\n",
        "        Image.putpixel((x, y), (0, 0, 0))\n"
      ],
      "metadata": {
        "id": "lbtv6OOEeCvM"
      },
      "execution_count": null,
      "outputs": []
    },
    {
      "cell_type": "markdown",
      "source": [
        "Refactor"
      ],
      "metadata": {
        "id": "CAYdRHkZfuIs"
      }
    },
    {
      "cell_type": "code",
      "source": [
        "def bres(a, b, Image):\n",
        "  garis(round(a[0]), round(a[1]), round(b[0]), round(b[1]), Image)\n"
      ],
      "metadata": {
        "id": "EE8x_qC4fwet"
      },
      "execution_count": null,
      "outputs": []
    },
    {
      "cell_type": "markdown",
      "source": [
        "Implementation"
      ],
      "metadata": {
        "id": "V7EFKjarelA8"
      }
    },
    {
      "cell_type": "code",
      "source": [
        "from PIL import Image\n",
        "\n",
        "A = [0, 100, 1]\n",
        "B = [100, 20, 1]\n",
        "C = [60, 10, 1]\n",
        "\n",
        "#before transformation\n",
        "image = Image.new(\"RGB\",(500,500),(255,255,255))\n",
        "bres(A, B, image)\n",
        "bres(B, C, image)\n",
        "bres(C, A, image)\n",
        "\n",
        "#transformation\n",
        "M = sc(2,2) @ tr(250) @ rot(40)\n",
        "A2 = A@M\n",
        "B2 = B@M\n",
        "C2 = C@M\n",
        "\n",
        "#after transformation\n",
        "imgtransformed = Image.new(\"RGB\", (500,500), (255,255,255))\n",
        "bres(A2, B2, imgtransformed)\n",
        "bres(B2, C2, imgtransformed)\n",
        "bres(C2, A2, imgtransformed)\n",
        "\n",
        "\n",
        "\n",
        "display(image)\n",
        "display(imgtransformed)"
      ],
      "metadata": {
        "colab": {
          "base_uri": "https://localhost:8080/",
          "height": 1000
        },
        "id": "MUPlxySNeqVc",
        "outputId": "bd66062f-d6c6-4b52-8c45-28dfe5402eac"
      },
      "execution_count": null,
      "outputs": [
        {
          "output_type": "display_data",
          "data": {
            "text/plain": [
              "<PIL.Image.Image image mode=RGB size=500x500>"
            ],
            "image/png": "[encoded data removed]"
          },
          "metadata": {}
        },
        {
          "output_type": "display_data",
          "data": {
            "text/plain": [
              "<PIL.Image.Image image mode=RGB size=500x500>"
            ],
            "image/png": "[encoded data removed]"
          },
          "metadata": {}
        }
      ]
    }
  ]
}